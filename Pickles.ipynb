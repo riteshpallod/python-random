{
 "cells": [
  {
   "cell_type": "code",
   "execution_count": 5,
   "metadata": {},
   "outputs": [],
   "source": [
    "import shelve, cPickle"
   ]
  },
  {
   "cell_type": "code",
   "execution_count": 14,
   "metadata": {},
   "outputs": [],
   "source": [
    "variety = [\"hot\", \"sweet\", \"dill\"]\n",
    "shape = [\"whole\", \"speaar\", \"chip\"]"
   ]
  },
  {
   "cell_type": "code",
   "execution_count": 16,
   "metadata": {},
   "outputs": [],
   "source": [
    "pickle_file = open(\"pickle.dat\", \"w\")\n",
    "cPickle.dump(variety, pickle_file)\n",
    "cPickle.dump(shape, pickle_file)\n",
    "pickle_file.close()"
   ]
  },
  {
   "cell_type": "code",
   "execution_count": 17,
   "metadata": {},
   "outputs": [],
   "source": [
    "pick_file = open(\"pickle.dat\", \"r\")\n",
    "vara = cPickle.load(pick_file)\n",
    "shap = cPickle.load(pick_file)\n",
    "pick_file.close()"
   ]
  },
  {
   "cell_type": "code",
   "execution_count": 18,
   "metadata": {},
   "outputs": [
    {
     "name": "stdout",
     "output_type": "stream",
     "text": [
      "['hot', 'sweet', 'dill']\n",
      "['whole', 'speaar', 'chip']\n"
     ]
    }
   ],
   "source": [
    "print(vara)\n",
    "print(shap)"
   ]
  },
  {
   "cell_type": "code",
   "execution_count": 24,
   "metadata": {},
   "outputs": [],
   "source": [
    "#shelfing stuff\n",
    "pickles = shelve.open(\"pickle_shelf.dat\")\n",
    "pickles[\"variety\"] = [\"hot\", \"sweeat\", \"diall\"]\n",
    "pickles[\"shape\"] = [\"whaole\", \"sspeaar\", \"chip\"]\n",
    "pickles.sync()"
   ]
  },
  {
   "cell_type": "code",
   "execution_count": 25,
   "metadata": {},
   "outputs": [
    {
     "name": "stdout",
     "output_type": "stream",
     "text": [
      "('variety', ': ', ['hot', 'sweeat', 'diall'])\n",
      "('shape', ': ', ['whaole', 'sspeaar', 'chip'])\n"
     ]
    }
   ],
   "source": [
    "for key in pickles.keys():\n",
    "    print(key, \": \", pickles[key])\n",
    "    \n",
    "pickles.close()"
   ]
  },
  {
   "cell_type": "code",
   "execution_count": 27,
   "metadata": {},
   "outputs": [],
   "source": [
    "#shelfing stuff 2\n",
    "pickles = shelve.open(\"pickle_shelf_fancy_data.dat\")\n",
    "pickles[\"ravi\"] = [58, \"tert\"]\n",
    "pickles[\"ram\"] = [50, \"bert\"]\n",
    "pickles.sync()"
   ]
  },
  {
   "cell_type": "code",
   "execution_count": 28,
   "metadata": {},
   "outputs": [
    {
     "name": "stdout",
     "output_type": "stream",
     "text": [
      "('ram', ': ', [50, 'bert'])\n",
      "('ravi', ': ', [58, 'tert'])\n"
     ]
    }
   ],
   "source": [
    "for key in pickles.keys():\n",
    "    print(key, \": \", pickles[key])\n",
    "    \n",
    "pickles.close()"
   ]
  },
  {
   "cell_type": "code",
   "execution_count": null,
   "metadata": {},
   "outputs": [],
   "source": []
  }
 ],
 "metadata": {
  "kernelspec": {
   "display_name": "Python 2",
   "language": "python",
   "name": "python2"
  },
  "language_info": {
   "codemirror_mode": {
    "name": "ipython",
    "version": 2
   },
   "file_extension": ".py",
   "mimetype": "text/x-python",
   "name": "python",
   "nbconvert_exporter": "python",
   "pygments_lexer": "ipython2",
   "version": "2.7.12"
  }
 },
 "nbformat": 4,
 "nbformat_minor": 2
}
